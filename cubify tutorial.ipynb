{
 "cells": [
  {
   "cell_type": "markdown",
   "id": "a5c266ca",
   "metadata": {},
   "source": [
    "# Introduction\n",
    "\n",
    "This notebook is a tutorial and overview of the cubify script and the Planet class within it. cubify will read in your IGRINS exoplanet data, extract relevant information from the FITS headers, and organize your data into cuboids ready to go for high res cross correlation analysis, with the goal of minimal effort and thinking on your part. The Planet class has a convenient method $\\texttt{do_it_all}$ that will literally do everything, but I reccommend going through this tutorial and calling each individual method at least once in order to know what's happening under the hood."
   ]
  },
  {
   "cell_type": "markdown",
   "id": "d303b47e",
   "metadata": {},
   "source": [
    "# Getting started\n",
    "\n",
    "To use cubify in either a jupyter notebook, command line script, or just in command line, you simply need to import the Planet class from cubify. Everything you need to do will be methods associated with this class."
   ]
  },
  {
   "cell_type": "code",
   "execution_count": 1,
   "id": "9521b085",
   "metadata": {},
   "outputs": [
    {
     "name": "stderr",
     "output_type": "stream",
     "text": [
      "C:\\Users\\peter\\Anaconda3\\lib\\site-packages\\cupy\\_environment.py:214: UserWarning: CUDA path could not be detected. Set CUDA_PATH environment variable if CuPy fails to load.\n",
      "  'CUDA path could not be detected.'\n"
     ]
    }
   ],
   "source": [
    "from cubify import Planet"
   ]
  },
  {
   "cell_type": "markdown",
   "id": "9a3d4039",
   "metadata": {},
   "source": [
    "With the Planet class imported, if you every forget the order of operations from this tutorial, you can conventienly take a look at the docstring:"
   ]
  },
  {
   "cell_type": "code",
   "execution_count": null,
   "id": "35324cd0",
   "metadata": {},
   "outputs": [],
   "source": [
    "?Planet"
   ]
  },
  {
   "cell_type": "markdown",
   "id": "370b9fd1",
   "metadata": {},
   "source": [
    "To initialize a Planet object, you only need two things: the name of the planet, and the path to the directory your data are in. Let's initilize a Planet object to cubify data of the ultra-hot Jupiter WASP-18 b (presented in Brogi et al. 2023)."
   ]
  },
  {
   "cell_type": "code",
   "execution_count": 2,
   "id": "2dba1318",
   "metadata": {},
   "outputs": [],
   "source": [
    "wasp18 = Planet(planetname='WASP-18 b', path='../w18/emission/20210925/')"
   ]
  },
  {
   "cell_type": "markdown",
   "id": "0c4a0184",
   "metadata": {},
   "source": [
    "We now have the $\\texttt{wasp18}$ Planet object. To go further, we need to set the following attributes to the Planet: period, T0 (transit midpoint), RV (stellar radial velocity), RA, DEC, and Tdur (transit duration). You can look up and set these attributes manually, however the Planet class has a convenient method get_params that will do this for you. get_params will query either the NASA Exoplanet Archive (NEA) or the Transiting Exoplanet Catalogue (TEPCat) to get these parameters. If you do so, having the planetname variable in a recognizable format to these services is required. Typically, this just means all caps and a space between the numbers and the letter, as \"WASP-18 b\" is above.\n",
    "\n",
    "The default for get_params is to query TEPCat, and it's not required to pass any arguments through the get_params method:"
   ]
  },
  {
   "cell_type": "code",
   "execution_count": 3,
   "id": "74ae07ac",
   "metadata": {},
   "outputs": [
    {
     "name": "stdout",
     "output_type": "stream",
     "text": [
      "Rp: 1.204 Mp: 10.52 Rstar: 1.255\n",
      "Kp: 237.4679450227524 km / s\n"
     ]
    },
    {
     "data": {
      "text/plain": [
       "(0.941452407, 2458022.125226, 0.0, '01 37 25.03', '−45 40 40.4', 2.1814)"
      ]
     },
     "execution_count": 3,
     "metadata": {},
     "output_type": "execute_result"
    }
   ],
   "source": [
    "wasp18.get_params()"
   ]
  },
  {
   "cell_type": "markdown",
   "id": "ee67890a",
   "metadata": {},
   "source": [
    "The stellar RV is the only parameter not listed on TEPCat, so by default the RV attribute will be set to 0 km/s. This means that the radial velocity array (discussed below) will only be the Earth barycentric radial velocity correction. A typical line-of-sight velocity calculation such as\n",
    "\n",
    "$$ V_\\mathrm{LOS}(t)  = RV(t) + K_P \\sin[2 \\pi \\phi(t)] $$\n",
    "\n",
    "for your planet will then be in the Sun's barycentric frame, and the $V_\\mathrm{sys}$ of your planet signal will show up at the stellar RV in CCF maps, rather than at 0 km/s. If you would rather the line-of-sight velocity to be in the stellar barycentric frame (and CCF detection at $dV_\\mathrm{sys} =$ 0 km/s), you can either manually set the RV attribute yourself:"
   ]
  },
  {
   "cell_type": "code",
   "execution_count": 8,
   "id": "27c7d011",
   "metadata": {},
   "outputs": [],
   "source": [
    "wasp18.RV = 3.2"
   ]
  },
  {
   "cell_type": "markdown",
   "id": "064269db",
   "metadata": {},
   "source": [
    "or pass the keyword argument get_RV=True through get_params:"
   ]
  },
  {
   "cell_type": "code",
   "execution_count": 7,
   "id": "8b273464",
   "metadata": {},
   "outputs": [
    {
     "name": "stdout",
     "output_type": "stream",
     "text": [
      "Rp: 1.204 Mp: 10.52 Rstar: 1.255\n",
      "Kp: 237.4679450227524 km / s\n",
      "Taking values from                                                               st_refname                                                              \n",
      "--------------------------------------------------------------------------------------------------------------------------------------\n",
      "<a refstr=HELLIER_ET_AL__2009 href=https://ui.adsabs.harvard.edu/abs/2009Natur.460.1098H/abstract target=ref> Hellier et al. 2009 </a>\n"
     ]
    },
    {
     "data": {
      "text/plain": [
       "(0.941452407, 2458022.125226, 3.2, '01 37 25.03', '−45 40 40.4', 2.1814)"
      ]
     },
     "execution_count": 7,
     "metadata": {},
     "output_type": "execute_result"
    }
   ],
   "source": [
    "wasp18.get_params(get_RV=True)"
   ]
  },
  {
   "cell_type": "markdown",
   "id": "e0328a5d",
   "metadata": {},
   "source": [
    "With get_RV=True, get_params will query NEA and find the most recent stellar RV measurement. You can otherwise get everything else from NEA by setting the keyword argument source='nea'. By default this will grab the most recent, most complete set of parameters:"
   ]
  },
  {
   "cell_type": "code",
   "execution_count": 8,
   "id": "8833d309",
   "metadata": {},
   "outputs": [
    {
     "name": "stdout",
     "output_type": "stream",
     "text": [
      "Taking values from <a refstr=HELLIER_ET_AL__2009 href=https://ui.adsabs.harvard.edu/abs/2009Natur.460.1098H/abstract target=ref> Hellier et al. 2009 </a>\n"
     ]
    },
    {
     "name": "stderr",
     "output_type": "stream",
     "text": [
      "WARNING: Unrecognized unit: 'day' [astroquery.nasa_exoplanet_archive.core]\n"
     ]
    },
    {
     "data": {
      "text/plain": [
       "(0.94145299, 2454221.48163, 3.2, '01h37m25.07s', '-45d40m40.06s', 2.14368)"
      ]
     },
     "execution_count": 8,
     "metadata": {},
     "output_type": "execute_result"
    }
   ],
   "source": [
    "wasp18.get_params(source='nea', get_RV=True)"
   ]
  },
  {
   "cell_type": "markdown",
   "id": "4e54643b",
   "metadata": {},
   "source": [
    "You can opt for the most recent reference with the optional which keyword:"
   ]
  },
  {
   "cell_type": "code",
   "execution_count": 10,
   "id": "828fe9ed",
   "metadata": {},
   "outputs": [
    {
     "name": "stdout",
     "output_type": "stream",
     "text": [
      "Taking values from <a refstr=EXOFOP_TESS_TOI href=https://exofop.ipac.caltech.edu/tess/view_toi.php target=ref>ExoFOP-TESS TOI</a>\n"
     ]
    },
    {
     "name": "stderr",
     "output_type": "stream",
     "text": [
      "WARNING: Unrecognized unit: 'day' [astroquery.nasa_exoplanet_archive.core]\n"
     ]
    },
    {
     "data": {
      "text/plain": [
       "(0.9414525, 2460205.353322, nan, '01h37m25.07s', '-45d40m40.06s', 2.05)"
      ]
     },
     "execution_count": 10,
     "metadata": {},
     "output_type": "execute_result"
    }
   ],
   "source": [
    "wasp18.get_params(source='nea', get_RV=True, which='most recent')"
   ]
  },
  {
   "cell_type": "markdown",
   "id": "263d717a",
   "metadata": {},
   "source": [
    "Or if you have a reference in mind, you can use the ref keyword:"
   ]
  },
  {
   "cell_type": "code",
   "execution_count": 11,
   "id": "b7ca8d19",
   "metadata": {},
   "outputs": [
    {
     "name": "stderr",
     "output_type": "stream",
     "text": [
      "WARNING: Unrecognized unit: 'day' [astroquery.nasa_exoplanet_archive.core]\n"
     ]
    },
    {
     "data": {
      "text/plain": [
       "(0.94145242, 2458501.324483, 3.2, '01h37m25.07s', '-45d40m40.06s', nan)"
      ]
     },
     "execution_count": 11,
     "metadata": {},
     "output_type": "execute_result"
    }
   ],
   "source": [
    "wasp18.get_params(source='nea', get_RV=True, ref='Kokori 2023')"
   ]
  },
  {
   "cell_type": "markdown",
   "id": "58c20707",
   "metadata": {},
   "source": [
    "And as with the RV attribute, you can fill in any missing parameters manually:"
   ]
  },
  {
   "cell_type": "code",
   "execution_count": 12,
   "id": "20bd17ef",
   "metadata": {},
   "outputs": [],
   "source": [
    "wasp18.Tdur = 2.14368"
   ]
  },
  {
   "cell_type": "markdown",
   "id": "385c439e",
   "metadata": {},
   "source": [
    "# Making the data cuboid\n",
    "\n",
    "Now we're ready to read in the FITS files and organize them into a data cuboid. We will also extract the time, phase, airmass, humidity, exposure time, star-observatory radial velocity, signal-to-noise, and variance per frame. All of this is done by simply calling the cubify method:"
   ]
  },
  {
   "cell_type": "code",
   "execution_count": 4,
   "id": "26de4a1e",
   "metadata": {
    "collapsed": true
   },
   "outputs": [
    {
     "name": "stdout",
     "output_type": "stream",
     "text": [
      "WARNING: 1 frames are during eclipse!\n"
     ]
    },
    {
     "data": {
      "text/plain": [
       "(array([[2.48453515, 2.48455405, 2.48457294, ..., 2.51854823, 2.51856228,\n",
       "         2.51857633],\n",
       "        [2.45045542, 2.45047397, 2.45049252, ..., 2.4840926 , 2.48410673,\n",
       "         2.48412086],\n",
       "        [2.41731458, 2.41733283, 2.41735107, ..., 2.45057741, 2.45059157,\n",
       "         2.45060573],\n",
       "        ...,\n",
       "        [1.45200832, 1.45201954, 1.45203076, ..., 1.47219583, 1.4722047 ,\n",
       "         1.47221356],\n",
       "        [1.44077094, 1.44078206, 1.44079317, ..., 1.46077963, 1.46078841,\n",
       "         1.46079719],\n",
       "        [1.42971765, 1.42972865, 1.42973965, ..., 1.44954913, 1.44955783,\n",
       "         1.44956652]]),\n",
       " array([[[            nan, -2.78345013e+01, -5.54278708e+00, ...,\n",
       "                      nan,             nan,             nan],\n",
       "         [            nan, -2.29171753e+00, -2.71772104e-03, ...,\n",
       "                      nan,             nan,             nan],\n",
       "         [            nan, -8.00033188e+00,  1.14242048e+01, ...,\n",
       "                      nan,             nan,             nan],\n",
       "         ...,\n",
       "         [            nan,  4.45865107e+00,  4.32192683e-01, ...,\n",
       "                      nan,             nan,             nan],\n",
       "         [            nan,  1.81929626e+01,  1.99935627e+01, ...,\n",
       "                      nan,             nan,             nan],\n",
       "         [            nan, -3.23228363e+02, -1.42029861e+02, ...,\n",
       "                      nan,             nan,             nan]],\n",
       " \n",
       "        [[            nan, -3.09914886e+02,             nan, ...,\n",
       "          -1.63254528e+01, -2.67374725e+01, -1.10785418e+01],\n",
       "         [            nan,  9.12411255e+02,             nan, ...,\n",
       "          -1.19046307e+01, -5.89736080e+00, -1.02407179e+01],\n",
       "         [            nan,  8.35173633e+03,             nan, ...,\n",
       "           1.48456879e+01,  1.69734325e+01, -1.07168007e+01],\n",
       "         ...,\n",
       "         [            nan,  8.52260315e+02,             nan, ...,\n",
       "          -2.09836292e+01,  9.89281082e+00, -1.54538383e+01],\n",
       "         [            nan,  9.90886597e+02,             nan, ...,\n",
       "          -1.04871769e+01, -1.62349927e+00, -1.44228001e+01],\n",
       "         [            nan,  3.07296045e+03,             nan, ...,\n",
       "          -1.18404015e+02, -1.00829552e+02,  2.89099770e+01]],\n",
       " \n",
       "        [[            nan,             nan,             nan, ...,\n",
       "                      nan,             nan,             nan],\n",
       "         [            nan,             nan,             nan, ...,\n",
       "                      nan,             nan,             nan],\n",
       "         [            nan,             nan,             nan, ...,\n",
       "                      nan,             nan,             nan],\n",
       "         ...,\n",
       "         [            nan,             nan,             nan, ...,\n",
       "                      nan,             nan,             nan],\n",
       "         [            nan,             nan,             nan, ...,\n",
       "                      nan,             nan,             nan],\n",
       "         [            nan,             nan,             nan, ...,\n",
       "                      nan,             nan,             nan]],\n",
       " \n",
       "        ...,\n",
       " \n",
       "        [[            nan, -4.85641845e-02,  1.05336320e+00, ...,\n",
       "                      nan, -1.91861621e+03,             nan],\n",
       "         [            nan, -1.34314203e+01, -8.47179413e+00, ...,\n",
       "                      nan, -3.25982399e+01,             nan],\n",
       "         [            nan, -1.82148724e+01,  2.03975201e+00, ...,\n",
       "                      nan, -4.34158173e+02,             nan],\n",
       "         ...,\n",
       "         [            nan, -5.60880899e+00,  4.71405983e+00, ...,\n",
       "                      nan,  5.22116211e+02,             nan],\n",
       "         [            nan,  1.97904825e+00,  1.86627140e+01, ...,\n",
       "                      nan, -4.18564178e+02,             nan],\n",
       "         [            nan, -1.18404150e+01,  3.92457504e+01, ...,\n",
       "                      nan, -4.37599463e+03,             nan]],\n",
       " \n",
       "        [[            nan,  4.94106799e-01,  1.26036882e+01, ...,\n",
       "                      nan,             nan,             nan],\n",
       "         [            nan, -9.07733154e+00, -1.18965940e+01, ...,\n",
       "                      nan,             nan,             nan],\n",
       "         [            nan,  1.61021004e+01,  1.83383961e+01, ...,\n",
       "                      nan,             nan,             nan],\n",
       "         ...,\n",
       "         [            nan, -6.68096447e+00, -9.68939590e+00, ...,\n",
       "                      nan,             nan,             nan],\n",
       "         [            nan, -1.43022642e+01,  1.33188474e+00, ...,\n",
       "                      nan,             nan,             nan],\n",
       "         [            nan, -9.95635529e+01, -9.06190586e+00, ...,\n",
       "                      nan,             nan,             nan]],\n",
       " \n",
       "        [[            nan,             nan,             nan, ...,\n",
       "           5.86451817e+00, -6.63602972e+00, -1.50292597e+01],\n",
       "         [            nan,             nan,             nan, ...,\n",
       "           3.12539637e-01, -5.81425333e+00,  5.74165678e+00],\n",
       "         [            nan,             nan,             nan, ...,\n",
       "           2.66513500e+01,  2.25454350e+01,  1.86057358e+01],\n",
       "         ...,\n",
       "         [            nan,             nan,             nan, ...,\n",
       "           3.13411093e+00, -1.33219738e+01, -7.13601828e+00],\n",
       "         [            nan,             nan,             nan, ...,\n",
       "          -1.06576109e+01,  1.88302059e+01,  1.23365641e+01],\n",
       "         [            nan,             nan,             nan, ...,\n",
       "           1.74737259e+02,  3.28646164e+01, -4.07485771e+01]]]),\n",
       " array([[[            nan, -4.14083433e+00, -7.73302615e-01, ...,\n",
       "                      nan,             nan,             nan],\n",
       "         [            nan, -3.42076868e-01, -3.84345360e-04, ...,\n",
       "                      nan,             nan,             nan],\n",
       "         [            nan, -1.48349440e+00,  2.08774734e+00, ...,\n",
       "                      nan,             nan,             nan],\n",
       "         ...,\n",
       "         [            nan,  6.15712523e-01,  6.16181158e-02, ...,\n",
       "                      nan,             nan,             nan],\n",
       "         [            nan,  2.39275622e+00,  2.56870294e+00, ...,\n",
       "                      nan,             nan,             nan],\n",
       "         [            nan, -8.59942913e+00, -3.75841689e+00, ...,\n",
       "                      nan,             nan,             nan]],\n",
       " \n",
       "        [[            nan, -6.55342102e+00,             nan, ...,\n",
       "          -2.55672121e+00, -4.98493719e+00, -2.24773812e+00],\n",
       "         [            nan,  1.92944736e+01,             nan, ...,\n",
       "          -1.91577494e+00, -1.19762647e+00, -2.21248937e+00],\n",
       "         [            nan,  8.94422379e+01,             nan, ...,\n",
       "           2.38799834e+00,  3.46181273e+00, -2.27009058e+00],\n",
       "         ...,\n",
       "         [            nan,  1.50331459e+01,             nan, ...,\n",
       "          -2.99834681e+00,  1.70164490e+00, -2.90102005e+00],\n",
       "         [            nan,  1.80666351e+01,             nan, ...,\n",
       "          -1.53049994e+00, -2.82156914e-01, -2.62593436e+00],\n",
       "         [            nan,  1.41449966e+01,             nan, ...,\n",
       "          -3.66209579e+00, -3.20109701e+00,  9.31325912e-01]],\n",
       " \n",
       "        [[            nan,             nan,             nan, ...,\n",
       "                      nan,             nan,             nan],\n",
       "         [            nan,             nan,             nan, ...,\n",
       "                      nan,             nan,             nan],\n",
       "         [            nan,             nan,             nan, ...,\n",
       "                      nan,             nan,             nan],\n",
       "         ...,\n",
       "         [            nan,             nan,             nan, ...,\n",
       "                      nan,             nan,             nan],\n",
       "         [            nan,             nan,             nan, ...,\n",
       "                      nan,             nan,             nan],\n",
       "         [            nan,             nan,             nan, ...,\n",
       "                      nan,             nan,             nan]],\n",
       " \n",
       "        ...,\n",
       " \n",
       "        [[            nan, -6.22327765e-03,  1.33512869e-01, ...,\n",
       "                      nan, -4.38219948e+01,             nan],\n",
       "         [            nan, -1.74535644e+00, -1.06070602e+00, ...,\n",
       "                      nan, -8.11000347e-01,             nan],\n",
       "         [            nan, -2.22164392e+00,  2.50495732e-01, ...,\n",
       "                      nan, -7.74151421e+00,             nan],\n",
       "         ...,\n",
       "         [            nan, -7.22514212e-01,  5.79996586e-01, ...,\n",
       "                      nan,  1.52006149e+01,             nan],\n",
       "         [            nan,  2.37170577e-01,  2.19639492e+00, ...,\n",
       "                      nan, -1.46995525e+01,             nan],\n",
       "         [            nan, -2.24519148e-01,  7.26816535e-01, ...,\n",
       "                      nan, -1.78172359e+01,             nan]],\n",
       " \n",
       "        [[            nan,  8.35375935e-02,  2.13104892e+00, ...,\n",
       "                      nan,             nan,             nan],\n",
       "         [            nan, -1.61579299e+00, -2.07125092e+00, ...,\n",
       "                      nan,             nan,             nan],\n",
       "         [            nan,  2.57865000e+00,  2.89399505e+00, ...,\n",
       "                      nan,             nan,             nan],\n",
       "         ...,\n",
       "         [            nan, -1.09123898e+00, -1.56751537e+00, ...,\n",
       "                      nan,             nan,             nan],\n",
       "         [            nan, -2.10247684e+00,  1.96189746e-01, ...,\n",
       "                      nan,             nan,             nan],\n",
       "         [            nan, -2.51048112e+00, -2.27848321e-01, ...,\n",
       "                      nan,             nan,             nan]],\n",
       " \n",
       "        [[            nan,             nan,             nan, ...,\n",
       "           1.01878023e+00, -1.22248828e+00, -2.84056330e+00],\n",
       "         [            nan,             nan,             nan, ...,\n",
       "           5.80027848e-02, -1.19493437e+00,  1.19406474e+00],\n",
       "         [            nan,             nan,             nan, ...,\n",
       "           4.46804619e+00,  4.04593372e+00,  3.35650969e+00],\n",
       "         ...,\n",
       "         [            nan,             nan,             nan, ...,\n",
       "           5.94477654e-01, -2.66141772e+00, -1.42393553e+00],\n",
       "         [            nan,             nan,             nan, ...,\n",
       "          -1.85155427e+00,  3.39912224e+00,  2.30144358e+00],\n",
       "         [            nan,             nan,             nan, ...,\n",
       "           4.92339373e+00,  9.53271806e-01, -1.19788361e+00]]]),\n",
       " array([[[           nan, 1.48518524e+02, 1.68891785e+02, ...,\n",
       "                     nan,            nan,            nan],\n",
       "         [           nan, 1.47524506e+02, 1.64368118e+02, ...,\n",
       "                     nan,            nan,            nan],\n",
       "         [           nan, 9.55946579e+01, 9.84344559e+01, ...,\n",
       "                     nan,            nan,            nan],\n",
       "         ...,\n",
       "         [           nan, 1.72361557e+02, 1.61729431e+02, ...,\n",
       "                     nan,            nan,            nan],\n",
       "         [           nan, 1.90020035e+02, 1.99160736e+02, ...,\n",
       "                     nan,            nan,            nan],\n",
       "         [           nan, 4.64375342e+03, 4.69462061e+03, ...,\n",
       "                     nan,            nan,            nan]],\n",
       " \n",
       "        [[           nan, 7.38570166e+03,            nan, ...,\n",
       "          1.79123444e+02, 1.26413063e+02, 1.06754585e+02],\n",
       "         [           nan, 7.38513477e+03,            nan, ...,\n",
       "          1.69641296e+02, 1.06547470e+02, 9.41480179e+01],\n",
       "         [           nan, 2.87946133e+04,            nan, ...,\n",
       "          1.69793579e+02, 1.05633766e+02, 9.79392242e+01],\n",
       "         ...,\n",
       "         [           nan, 1.06142109e+04,            nan, ...,\n",
       "          2.15172195e+02, 1.48515610e+02, 1.24705032e+02],\n",
       "         [           nan, 9.93428027e+03,            nan, ...,\n",
       "          2.06271484e+02, 1.45476685e+02, 1.32569672e+02],\n",
       "         [           nan, 1.55865938e+05,            nan, ...,\n",
       "          4.59263672e+03, 4.35961963e+03, 4.23452686e+03]],\n",
       " \n",
       "        [[           nan,            nan,            nan, ...,\n",
       "                     nan,            nan,            nan],\n",
       "         [           nan,            nan,            nan, ...,\n",
       "                     nan,            nan,            nan],\n",
       "         [           nan,            nan,            nan, ...,\n",
       "                     nan,            nan,            nan],\n",
       "         ...,\n",
       "         [           nan,            nan,            nan, ...,\n",
       "                     nan,            nan,            nan],\n",
       "         [           nan,            nan,            nan, ...,\n",
       "                     nan,            nan,            nan],\n",
       "         [           nan,            nan,            nan, ...,\n",
       "                     nan,            nan,            nan]],\n",
       " \n",
       "        ...,\n",
       " \n",
       "        [[           nan, 1.96984283e+02, 2.01380081e+02, ...,\n",
       "                     nan, 7.95866162e+03,            nan],\n",
       "         [           nan, 1.91563736e+02, 2.06379791e+02, ...,\n",
       "                     nan, 6.70801855e+03,            nan],\n",
       "         [           nan, 2.17440826e+02, 2.14516434e+02, ...,\n",
       "                     nan, 1.30584658e+04,            nan],\n",
       "         ...,\n",
       "         [           nan, 1.94933395e+02, 2.13720337e+02, ...,\n",
       "                     nan, 4.89846533e+03,            nan],\n",
       "         [           nan, 2.25231354e+02, 2.33579788e+02, ...,\n",
       "                     nan, 3.36638647e+03,            nan],\n",
       "         [           nan, 8.99631738e+03, 9.43283398e+03, ...,\n",
       "                     nan, 2.50449938e+05,            nan]],\n",
       " \n",
       "        [[           nan, 1.13390076e+02, 1.13389648e+02, ...,\n",
       "                     nan,            nan,            nan],\n",
       "         [           nan, 1.02292122e+02, 1.06941116e+02, ...,\n",
       "                     nan,            nan,            nan],\n",
       "         [           nan, 1.26379745e+02, 1.30164352e+02, ...,\n",
       "                     nan,            nan,            nan],\n",
       "         ...,\n",
       "         [           nan, 1.21488686e+02, 1.23861031e+02, ...,\n",
       "                     nan,            nan,            nan],\n",
       "         [           nan, 1.49983826e+02, 1.49398285e+02, ...,\n",
       "                     nan,            nan,            nan],\n",
       "         [           nan, 5.09781592e+03, 5.12757861e+03, ...,\n",
       "                     nan,            nan,            nan]],\n",
       " \n",
       "        [[           nan,            nan,            nan, ...,\n",
       "          1.38062012e+02, 1.22782051e+02, 1.16652397e+02],\n",
       "         [           nan,            nan,            nan, ...,\n",
       "          1.20971504e+02, 9.86523514e+01, 9.63487625e+01],\n",
       "         [           nan,            nan,            nan, ...,\n",
       "          1.48242828e+02, 1.29386002e+02, 1.28039902e+02],\n",
       "         ...,\n",
       "         [           nan,            nan,            nan, ...,\n",
       "          1.15805244e+02, 1.04404366e+02, 1.04654694e+02],\n",
       "         [           nan,            nan,            nan, ...,\n",
       "          1.38043961e+02, 1.27874573e+02, 1.19733383e+02],\n",
       "         [           nan,            nan,            nan, ...,\n",
       "          5.24822607e+03, 4.95257764e+03, 4.82195410e+03]]]),\n",
       " array([0.32639787, 0.32859074, 0.33078097, 0.33297119, 0.33516247,\n",
       "        0.33735801, 0.33954982, 0.34173845, 0.34392815, 0.34612368,\n",
       "        0.34932404, 0.35153019, 0.35371829, 0.35591011, 0.35810511,\n",
       "        0.36029587, 0.36269215, 0.36492805, 0.36741781, 0.37026605,\n",
       "        0.37256409, 0.37481591, 0.37698436, 0.37920273, 0.38139827,\n",
       "        0.38305687, 0.38583713, 0.38801939, 0.39021014, 0.39240302,\n",
       "        0.39459271, 0.39679196, 0.39898484, 0.40116709, 0.40336103,\n",
       "        0.40556241, 0.40774785, 0.40993276, 0.41212723, 0.41433073,\n",
       "        0.41651139, 0.41871861, 0.42089396, 0.42308471, 0.42528078,\n",
       "        0.42746834, 0.4296575 , 0.43185516, 0.43404432, 0.43623135,\n",
       "        0.43842954, 0.44062295, 0.44281264, 0.44499968, 0.4471984 ,\n",
       "        0.44938809, 0.45157937, 0.45909272]),\n",
       " array([1.34541887, 1.3485679 , 1.35174788, 1.35496218, 1.35821196,\n",
       "        1.36150161, 1.36481878, 1.36816367, 1.37154227, 1.37496164,\n",
       "        1.38000196, 1.38351449, 1.38702836, 1.39057775, 1.39416146,\n",
       "        1.39776685, 1.40174261, 1.40548199, 1.40967901, 1.41452217,\n",
       "        1.41846154, 1.42234862, 1.42611641, 1.42999542, 1.43385833,\n",
       "        1.43679193, 1.44173845, 1.44564586, 1.44958985, 1.45355856,\n",
       "        1.4575418 , 1.46156229, 1.46559037, 1.46961744, 1.47368413,\n",
       "        1.4777822 , 1.48186748, 1.485968  , 1.4901022 , 1.49426871,\n",
       "        1.49840653, 1.50260882, 1.50676374, 1.5109608 , 1.51518027,\n",
       "        1.51939498, 1.52362373, 1.52787932, 1.53212824, 1.53638218,\n",
       "        1.54066642, 1.54494932, 1.54923232, 1.55351683, 1.55783038,\n",
       "        1.56213173, 1.56644111, 1.58124556]),\n",
       " array([2459482.62519731, 2459482.6272618 , 2459482.62932379,\n",
       "        2459482.63138578, 2459482.63344878, 2459482.63551577,\n",
       "        2459482.63757926, 2459482.63963975, 2459482.64170124,\n",
       "        2459482.64376823, 2459482.64678121, 2459482.6488582 ,\n",
       "        2459482.6509182 , 2459482.65298169, 2459482.65504818,\n",
       "        2459482.65711067, 2459482.65936666, 2459482.66147165,\n",
       "        2459482.66381563, 2459482.66649712, 2459482.66866061,\n",
       "        2459482.6707806 , 2459482.67282209, 2459482.67491058,\n",
       "        2459482.67697757, 2459482.67853906, 2459482.68115655,\n",
       "        2459482.68321104, 2459482.68527353, 2459482.68733802,\n",
       "        2459482.68939951, 2459482.69147   , 2459482.69353449,\n",
       "        2459482.69558898, 2459482.69765447, 2459482.69972696,\n",
       "        2459482.70178445, 2459482.70384144, 2459482.70590743,\n",
       "        2459482.70798192, 2459482.71003491, 2459482.7121129 ,\n",
       "        2459482.71416089, 2459482.71622338, 2459482.71829087,\n",
       "        2459482.72035036, 2459482.72241135, 2459482.72448034,\n",
       "        2459482.72654133, 2459482.72860032, 2459482.7306698 ,\n",
       "        2459482.73273479, 2459482.73479628, 2459482.73685527,\n",
       "        2459482.73892526, 2459482.74098675, 2459482.74304974,\n",
       "        2459482.7501232 ]),\n",
       " array([1.302 , 1.292 , 1.283 , 1.274 , 1.265 , 1.256 , 1.248 , 1.2395,\n",
       "        1.2315, 1.2235, 1.2125, 1.2055, 1.1985, 1.1915, 1.1845, 1.1785,\n",
       "        1.1715, 1.165 , 1.1585, 1.151 , 1.145 , 1.1395, 1.1345, 1.129 ,\n",
       "        1.1245, 1.121 , 1.115 , 1.111 , 1.106 , 1.102 , 1.098 , 1.0945,\n",
       "        1.091 , 1.087 , 1.0835, 1.0805, 1.077 , 1.0745, 1.0715, 1.0685,\n",
       "        1.0655, 1.0635, 1.0605, 1.0585, 1.0565, 1.0545, 1.0525, 1.0505,\n",
       "        1.0485, 1.0475, 1.0455, 1.0445, 1.043 , 1.042 , 1.041 , 1.04  ,\n",
       "        1.039 , 1.116 ]),\n",
       " array([15.5, 14.4, 15.3, 14.8, 15.9, 14.9, 15.3, 15. , 14.4, 13.9, 14. ,\n",
       "        13.9, 13.9, 13.8, 13.3, 13.8, 14. , 14.3, 13.8, 13.2, 13.6, 13.7,\n",
       "        13.7, 14.5, 14. , 14. , 14.1, 14.3, 14.7, 14.7, 15.1, 14.7, 14.7,\n",
       "        14.4, 14.5, 14.7, 14.7, 14.5, 14.7, 13.9, 13.6, 13.6, 14.1, 14.1,\n",
       "        14.3, 14. , 13.8, 13.9, 14.4, 13.7, 13.6, 13.5, 14.5, 14.5, 14.4,\n",
       "        14.3, 14.5, 14.9]),\n",
       " array([50., 50., 50., 50., 50., 50., 50., 50., 50., 50., 50., 50., 50.,\n",
       "        50., 50., 50., 50., 50., 50., 50., 50., 50., 50., 50., 50., 50.,\n",
       "        50., 50., 50., 50., 50., 50., 50., 50., 50., 50., 50., 50., 50.,\n",
       "        50., 50., 50., 50., 50., 50., 50., 50., 50., 50., 50., 50., 50.,\n",
       "        50., 50., 50., 50., 50.,  5.]))"
      ]
     },
     "execution_count": 4,
     "metadata": {},
     "output_type": "execute_result"
    }
   ],
   "source": [
    "wasp18.cubify()"
   ]
  },
  {
   "cell_type": "markdown",
   "id": "2ba9e139",
   "metadata": {},
   "source": [
    "The Planet object how has a bunch of more attributes - all new arrays of the quantities I just listed, and we even got a warning message that one of our frames was taken in eclipse, so we might want to discard it.\n",
    "\n",
    "The most important new arrays are probably rvel_arr and ph_arr. rvel_arr is the combination of the stellar RV attribute and the Observatories barycentric radial velocity correction. The phase array is calculated with the period and T0 attributes previously fetched by the get_params method and after converting the time of each exposure to BJD, which is why we needed the stellar RA and DEC.\n",
    "\n",
    "To take a look at our new data cuboid, we can use the plot method, which plots one echelle order's spectra stacked in time:"
   ]
  },
  {
   "cell_type": "code",
   "execution_count": 14,
   "id": "71bda815",
   "metadata": {},
   "outputs": [
    {
     "data": {
      "image/png": "[encoded data removed]",
      "text/plain": [
       "<Figure size 640x480 with 1 Axes>"
      ]
     },
     "metadata": {},
     "output_type": "display_data"
    }
   ],
   "source": [
    "wasp18.plot(order = 10)"
   ]
  },
  {
   "cell_type": "markdown",
   "id": "44ac72fb",
   "metadata": {},
   "source": [
    "Looks like something funky happened that last frame! That one was during eclipse anyway, so we can discard it with the trim method."
   ]
  },
  {
   "cell_type": "code",
   "execution_count": 5,
   "id": "7cb51c9a",
   "metadata": {},
   "outputs": [
    {
     "name": "stdout",
     "output_type": "stream",
     "text": [
      "Number frames to discard from beginning:0\n",
      "Number of frames to discard from end:1\n",
      "N frames: 57\n"
     ]
    }
   ],
   "source": [
    "wasp18.trim()"
   ]
  },
  {
   "cell_type": "markdown",
   "id": "4c531425",
   "metadata": {},
   "source": [
    "trim also has an optional keyword argument transit_only, which when set to True only keeps frames during transit. Because this is a thermal emission data set, let's leave that alone.\n",
    "\n",
    "Let's also take a look at the median signal-to-noise in time of our data:"
   ]
  },
  {
   "cell_type": "code",
   "execution_count": 5,
   "id": "1ce80f12",
   "metadata": {},
   "outputs": [
    {
     "name": "stderr",
     "output_type": "stream",
     "text": [
      "C:\\Users\\peter\\Anaconda3\\lib\\site-packages\\numpy\\lib\\nanfunctions.py:1120: RuntimeWarning: All-NaN slice encountered\n",
      "  overwrite_input=overwrite_input)\n"
     ]
    },
    {
     "name": "stdout",
     "output_type": "stream",
     "text": [
      "Median H: 185.1289825439453\n",
      "Median K: 168.99011993408203\n"
     ]
    },
    {
     "data": {
      "image/png": "[encoded data removed]",
      "text/plain": [
       "<Figure size 640x480 with 1 Axes>"
      ]
     },
     "metadata": {},
     "output_type": "display_data"
    },
    {
     "data": {
      "text/plain": [
       "array([[       nan, 0.        , 0.19044673, ...,        nan,        nan,\n",
       "               nan],\n",
       "       [       nan, 2.01795611,        nan, ..., 0.        , 0.        ,\n",
       "        0.        ],\n",
       "       [       nan,        nan,        nan, ...,        nan,        nan,\n",
       "               nan],\n",
       "       ...,\n",
       "       [       nan, 0.21312334, 0.36546424, ...,        nan, 0.        ,\n",
       "               nan],\n",
       "       [       nan, 0.19868054, 0.22562944, ...,        nan,        nan,\n",
       "               nan],\n",
       "       [       nan,        nan,        nan, ..., 0.        , 0.        ,\n",
       "        0.        ]])"
      ]
     },
     "execution_count": 5,
     "metadata": {},
     "output_type": "execute_result"
    }
   ],
   "source": [
    "wasp18.plot_snr()"
   ]
  },
  {
   "cell_type": "markdown",
   "id": "f648700b",
   "metadata": {},
   "source": [
    "Before we do anything else with the data, we should apply a secondary wavelength solution. The IGRINS wavelength solution can drift by fractions of a pixel over the course of a several-hour observation. This solution is made from comparison to a telluric model by the PLP, typically at the end of the observation, so the last frame usually has a pretty accurate solution. We can then compare the other frames to the last one and fit a polynomial wavelength adjustment:\n",
    "\n",
    "$$ \\lambda' = a + (\\lambda - \\lambda_0) \\times b  $$\n",
    "\n",
    "where $a$ is a simple shift and $b$ is multiplicative stretching term centered at $\\lambda_0$.\n",
    "\n",
    "The align method fits for this and then interpolates the data onto the new wavelength solution."
   ]
  },
  {
   "cell_type": "code",
   "execution_count": 6,
   "id": "9ad11f03",
   "metadata": {
    "collapsed": true
   },
   "outputs": [
    {
     "data": {
      "text/plain": [
       "(array([[2.45230079, 2.45231914, 2.45233749, ..., 2.48266621, 2.4826806 ,\n",
       "         2.48269498],\n",
       "        [2.41913119, 2.41914927, 2.41916736, ..., 2.44915165, 2.449166  ,\n",
       "         2.44918036],\n",
       "        [2.38686577, 2.38688361, 2.38690144, ..., 2.41654427, 2.41655855,\n",
       "         2.41657284],\n",
       "        ...,\n",
       "        [1.47618875, 1.47620002, 1.47621128, ..., 1.49469725, 1.49470636,\n",
       "         1.49471546],\n",
       "        [1.46455892, 1.46457009, 1.46458124, ..., 1.48290404, 1.48291306,\n",
       "         1.48292207],\n",
       "        [1.45312233, 1.45313339, 1.45314445, ..., 1.47130585, 1.47131479,\n",
       "         1.47132372]]),\n",
       " array([[[1.68305360e+03, 1.70253561e+03, 1.71918879e+03, ...,\n",
       "          1.91950342e+02, 1.67384425e+02, 1.41566019e+02],\n",
       "         [1.95888674e+03, 1.94925822e+03, 1.96137528e+03, ...,\n",
       "          1.37748797e+02, 1.58943423e+02, 1.44407595e+02],\n",
       "         [1.80157015e+03, 1.80679600e+03, 1.81775928e+03, ...,\n",
       "          1.93954172e+02, 1.66562489e+02, 1.52474776e+02],\n",
       "         ...,\n",
       "         [1.66332347e+03, 1.68969360e+03, 1.70648042e+03, ...,\n",
       "          1.62655417e+02, 1.66711017e+02, 1.69484758e+02],\n",
       "         [1.67363972e+03, 1.66920143e+03, 1.69656488e+03, ...,\n",
       "          1.91964879e+02, 2.02090161e+02, 2.18756104e+02],\n",
       "         [9.70801758e+03, 9.86914648e+03, 9.84472461e+03, ...,\n",
       "          1.35423364e+03, 1.27653125e+03, 1.45705811e+03]],\n",
       " \n",
       "        [[6.43246260e+02, 3.75423353e+02, 2.13088257e+02, ...,\n",
       "          2.90714145e+03, 2.95775965e+03, 3.03315753e+03],\n",
       "         [8.26858820e+02, 5.17891222e+02, 2.92439749e+02, ...,\n",
       "          3.41799327e+03, 3.46744754e+03, 3.39808770e+03],\n",
       "         [6.42367114e+02, 3.52255916e+02, 2.14525496e+02, ...,\n",
       "          3.08656509e+03, 3.15329140e+03, 3.13471599e+03],\n",
       "         ...,\n",
       "         [5.43729415e+02, 3.35316910e+02, 1.73689671e+02, ...,\n",
       "          3.13455431e+03, 3.13042996e+03, 3.19751855e+03],\n",
       "         [4.43007504e+02, 2.57052568e+02, 1.90665131e+02, ...,\n",
       "          2.95025955e+03, 2.94325997e+03, 3.01579692e+03],\n",
       "         [2.68253760e+03, 1.42552734e+03, 6.97866516e+02, ...,\n",
       "          1.68733437e+04, 1.69776406e+04, 1.69296328e+04]],\n",
       " \n",
       "        [[2.27184767e+03, 2.34103610e+03, 2.37562324e+03, ...,\n",
       "          3.40539205e+03, 3.35785042e+03, 3.37374850e+03],\n",
       "         [2.60156586e+03, 2.67109924e+03, 2.71390086e+03, ...,\n",
       "          3.85910892e+03, 3.86659974e+03, 3.90235304e+03],\n",
       "         [2.39424312e+03, 2.46963227e+03, 2.50233949e+03, ...,\n",
       "          3.50276988e+03, 3.52056246e+03, 3.59013325e+03],\n",
       "         ...,\n",
       "         [2.37731210e+03, 2.40487934e+03, 2.44357113e+03, ...,\n",
       "          3.54967002e+03, 3.56972730e+03, 3.60123657e+03],\n",
       "         [2.23591137e+03, 2.30318787e+03, 2.37402660e+03, ...,\n",
       "          3.35711550e+03, 3.34726481e+03, 3.31823252e+03],\n",
       "         [1.33723115e+04, 1.35540957e+04, 1.37587842e+04, ...,\n",
       "          1.90594375e+04, 1.91080879e+04, 1.91948770e+04]],\n",
       " \n",
       "        ...,\n",
       " \n",
       "        [[1.00000000e-03, 1.03032607e+01, 3.80390807e+01, ...,\n",
       "          3.97108230e+03, 3.92173675e+03, 3.89567718e+03],\n",
       "         [1.08153871e+01, 2.44191366e+01, 1.49928683e+01, ...,\n",
       "          4.56524879e+03, 4.51122264e+03, 4.42029398e+03],\n",
       "         [2.38029665e+00, 3.18311870e+01, 3.04992123e+01, ...,\n",
       "          4.33423116e+03, 4.35771471e+03, 4.18497587e+03],\n",
       "         ...,\n",
       "         [1.37177228e+01, 2.02918292e+01, 2.24694409e+01, ...,\n",
       "          4.25853102e+03, 4.18376114e+03, 4.13558427e+03],\n",
       "         [2.21536258e+01, 5.21818844e+01, 3.82301166e+01, ...,\n",
       "          4.02355071e+03, 3.99485293e+03, 3.94608764e+03],\n",
       "         [1.88409317e+02, 2.14123581e+02, 3.15637760e+01, ...,\n",
       "          2.43705605e+04, 2.42323906e+04, 2.38076465e+04]],\n",
       " \n",
       "        [[1.93865899e+01, 2.38396185e+01, 2.22839791e+01, ...,\n",
       "          3.56924490e+03, 3.56957436e+03, 3.65460042e+03],\n",
       "         [8.02909214e+00, 2.10764108e+00, 2.62922465e+01, ...,\n",
       "          4.10834646e+03, 4.13059072e+03, 4.17509332e+03],\n",
       "         [3.08594315e+01, 3.89843201e+01, 2.81795490e+01, ...,\n",
       "          3.91347130e+03, 3.99224524e+03, 4.05122082e+03],\n",
       "         ...,\n",
       "         [1.00000000e-03, 4.43997216e+01, 6.17452439e-01, ...,\n",
       "          3.81622572e+03, 3.79106655e+03, 3.93385100e+03],\n",
       "         [1.85341395e+01, 1.44756910e+01, 2.99166455e-01, ...,\n",
       "          3.51199746e+03, 3.54578375e+03, 3.68134993e+03],\n",
       "         [3.71786194e+01, 1.57596802e+02, 2.34024323e+02, ...,\n",
       "          2.22873809e+04, 2.25061914e+04, 2.29742695e+04]],\n",
       " \n",
       "        [[1.00000000e-03, 2.58435118e+00, 5.45463713e+00, ...,\n",
       "          1.49194551e+03, 1.65777331e+03, 2.00685187e+03],\n",
       "         [3.65613535e+00, 1.00000000e-03, 5.85973990e+00, ...,\n",
       "          1.76779639e+03, 1.89784279e+03, 2.24120717e+03],\n",
       "         [9.64598900e+00, 2.03246852e+00, 1.07548132e+01, ...,\n",
       "          1.66800078e+03, 1.83183171e+03, 2.21309406e+03],\n",
       "         ...,\n",
       "         [1.63769449e+01, 3.42879878e+01, 1.00000000e-03, ...,\n",
       "          1.49898848e+03, 1.68722177e+03, 1.99843906e+03],\n",
       "         [4.46119707e+00, 1.00000000e-03, 2.63113058e+01, ...,\n",
       "          1.43064797e+03, 1.57028327e+03, 1.89218046e+03],\n",
       "         [3.22616920e+01, 1.00000000e-03, 4.99634209e+01, ...,\n",
       "          8.13738721e+03, 9.33660840e+03, 1.15540098e+04]]]))"
      ]
     },
     "execution_count": 6,
     "metadata": {},
     "output_type": "execute_result"
    }
   ],
   "source": [
    "wasp18.align()"
   ]
  },
  {
   "cell_type": "markdown",
   "id": "532350a3",
   "metadata": {},
   "source": [
    "There are a couple of other things going on in the align method. We're also throwing out some orders that have low SNR. The default is to throw out orders with a median SNR < 50, but you can change this with the min_snr keyword:"
   ]
  },
  {
   "cell_type": "code",
   "execution_count": 21,
   "id": "a4af01f3",
   "metadata": {
    "collapsed": true
   },
   "outputs": [
    {
     "data": {
      "text/plain": [
       "(array([[2.45230079, 2.45231914, 2.45233749, ..., 2.48266621, 2.4826806 ,\n",
       "         2.48269498],\n",
       "        [2.41913119, 2.41914927, 2.41916736, ..., 2.44915165, 2.449166  ,\n",
       "         2.44918036],\n",
       "        [2.38686577, 2.38688361, 2.38690144, ..., 2.41654427, 2.41655855,\n",
       "         2.41657284],\n",
       "        ...,\n",
       "        [1.47618875, 1.47620002, 1.47621128, ..., 1.49469725, 1.49470636,\n",
       "         1.49471546],\n",
       "        [1.46455892, 1.46457009, 1.46458124, ..., 1.48290404, 1.48291306,\n",
       "         1.48292207],\n",
       "        [1.45312233, 1.45313339, 1.45314445, ..., 1.47130585, 1.47131479,\n",
       "         1.47132372]]),\n",
       " array([[[1.68305360e+03, 1.70253561e+03, 1.71918879e+03, ...,\n",
       "          1.91950342e+02, 1.67384425e+02, 1.41566019e+02],\n",
       "         [1.95888674e+03, 1.94925822e+03, 1.96137528e+03, ...,\n",
       "          1.37748797e+02, 1.58943423e+02, 1.44407595e+02],\n",
       "         [1.80157015e+03, 1.80679600e+03, 1.81775928e+03, ...,\n",
       "          1.93954172e+02, 1.66562489e+02, 1.52474776e+02],\n",
       "         ...,\n",
       "         [1.66332347e+03, 1.68969360e+03, 1.70648042e+03, ...,\n",
       "          1.62655417e+02, 1.66711017e+02, 1.69484758e+02],\n",
       "         [1.67363972e+03, 1.66920143e+03, 1.69656488e+03, ...,\n",
       "          1.91964879e+02, 2.02090161e+02, 2.18756104e+02],\n",
       "         [9.70801758e+03, 9.86914648e+03, 9.84472461e+03, ...,\n",
       "          1.35423364e+03, 1.27653125e+03, 1.45705811e+03]],\n",
       " \n",
       "        [[6.43246260e+02, 3.75423353e+02, 2.13088257e+02, ...,\n",
       "          2.90714145e+03, 2.95775965e+03, 3.03315753e+03],\n",
       "         [8.26858820e+02, 5.17891222e+02, 2.92439749e+02, ...,\n",
       "          3.41799327e+03, 3.46744754e+03, 3.39808770e+03],\n",
       "         [6.42367114e+02, 3.52255916e+02, 2.14525496e+02, ...,\n",
       "          3.08656509e+03, 3.15329140e+03, 3.13471599e+03],\n",
       "         ...,\n",
       "         [5.43729415e+02, 3.35316910e+02, 1.73689671e+02, ...,\n",
       "          3.13455431e+03, 3.13042996e+03, 3.19751855e+03],\n",
       "         [4.43007504e+02, 2.57052568e+02, 1.90665131e+02, ...,\n",
       "          2.95025955e+03, 2.94325997e+03, 3.01579692e+03],\n",
       "         [2.68253760e+03, 1.42552734e+03, 6.97866516e+02, ...,\n",
       "          1.68733437e+04, 1.69776406e+04, 1.69296328e+04]],\n",
       " \n",
       "        [[2.27184767e+03, 2.34103610e+03, 2.37562324e+03, ...,\n",
       "          3.40539205e+03, 3.35785042e+03, 3.37374850e+03],\n",
       "         [2.60156586e+03, 2.67109924e+03, 2.71390086e+03, ...,\n",
       "          3.85910892e+03, 3.86659974e+03, 3.90235304e+03],\n",
       "         [2.39424312e+03, 2.46963227e+03, 2.50233949e+03, ...,\n",
       "          3.50276988e+03, 3.52056246e+03, 3.59013325e+03],\n",
       "         ...,\n",
       "         [2.37731210e+03, 2.40487934e+03, 2.44357113e+03, ...,\n",
       "          3.54967002e+03, 3.56972730e+03, 3.60123657e+03],\n",
       "         [2.23591137e+03, 2.30318787e+03, 2.37402660e+03, ...,\n",
       "          3.35711550e+03, 3.34726481e+03, 3.31823252e+03],\n",
       "         [1.33723115e+04, 1.35540957e+04, 1.37587842e+04, ...,\n",
       "          1.90594375e+04, 1.91080879e+04, 1.91948770e+04]],\n",
       " \n",
       "        ...,\n",
       " \n",
       "        [[1.00000000e-03, 1.03032607e+01, 3.80390807e+01, ...,\n",
       "          3.97108230e+03, 3.92173675e+03, 3.89567718e+03],\n",
       "         [1.08153871e+01, 2.44191366e+01, 1.49928683e+01, ...,\n",
       "          4.56524879e+03, 4.51122264e+03, 4.42029398e+03],\n",
       "         [2.38029665e+00, 3.18311870e+01, 3.04992123e+01, ...,\n",
       "          4.33423116e+03, 4.35771471e+03, 4.18497587e+03],\n",
       "         ...,\n",
       "         [1.37177228e+01, 2.02918292e+01, 2.24694409e+01, ...,\n",
       "          4.25853102e+03, 4.18376114e+03, 4.13558427e+03],\n",
       "         [2.21536258e+01, 5.21818844e+01, 3.82301166e+01, ...,\n",
       "          4.02355071e+03, 3.99485293e+03, 3.94608764e+03],\n",
       "         [1.88409317e+02, 2.14123581e+02, 3.15637760e+01, ...,\n",
       "          2.43705605e+04, 2.42323906e+04, 2.38076465e+04]],\n",
       " \n",
       "        [[1.93865899e+01, 2.38396185e+01, 2.22839791e+01, ...,\n",
       "          3.56924490e+03, 3.56957436e+03, 3.65460042e+03],\n",
       "         [8.02909214e+00, 2.10764108e+00, 2.62922465e+01, ...,\n",
       "          4.10834646e+03, 4.13059072e+03, 4.17509332e+03],\n",
       "         [3.08594315e+01, 3.89843201e+01, 2.81795490e+01, ...,\n",
       "          3.91347130e+03, 3.99224524e+03, 4.05122082e+03],\n",
       "         ...,\n",
       "         [1.00000000e-03, 4.43997216e+01, 6.17452439e-01, ...,\n",
       "          3.81622572e+03, 3.79106655e+03, 3.93385100e+03],\n",
       "         [1.85341395e+01, 1.44756910e+01, 2.99166455e-01, ...,\n",
       "          3.51199746e+03, 3.54578375e+03, 3.68134993e+03],\n",
       "         [3.71786194e+01, 1.57596802e+02, 2.34024323e+02, ...,\n",
       "          2.22873809e+04, 2.25061914e+04, 2.29742695e+04]],\n",
       " \n",
       "        [[1.00000000e-03, 2.58435118e+00, 5.45463713e+00, ...,\n",
       "          1.49194551e+03, 1.65777331e+03, 2.00685187e+03],\n",
       "         [3.65613535e+00, 1.00000000e-03, 5.85973990e+00, ...,\n",
       "          1.76779639e+03, 1.89784279e+03, 2.24120717e+03],\n",
       "         [9.64598900e+00, 2.03246852e+00, 1.07548132e+01, ...,\n",
       "          1.66800078e+03, 1.83183171e+03, 2.21309406e+03],\n",
       "         ...,\n",
       "         [1.63769449e+01, 3.42879878e+01, 1.00000000e-03, ...,\n",
       "          1.49898848e+03, 1.68722177e+03, 1.99843906e+03],\n",
       "         [4.46119707e+00, 1.00000000e-03, 2.63113058e+01, ...,\n",
       "          1.43064797e+03, 1.57028327e+03, 1.89218046e+03],\n",
       "         [3.22616920e+01, 1.00000000e-03, 4.99634209e+01, ...,\n",
       "          8.13738721e+03, 9.33660840e+03, 1.15540098e+04]]]))"
      ]
     },
     "execution_count": 21,
     "metadata": {},
     "output_type": "execute_result"
    }
   ],
   "source": [
    "wasp18.align(min_snr=100)"
   ]
  },
  {
   "cell_type": "markdown",
   "id": "1ac11c6a",
   "metadata": {},
   "source": [
    "If you set whichorders=None, align will keep a hard coded selection of orders that have don't have too much telluric contamination. Align can also normalize each frame by setting normed=True, or align to the first frame by setting which='first'.\n",
    "\n",
    "align can also interpolate over nan's and negative values by setting interpolation=True. This will create a mask of where the nan's were originally so you can add them back in later."
   ]
  },
  {
   "cell_type": "markdown",
   "id": "41501e91",
   "metadata": {},
   "source": [
    "# Detrending\n",
    "\n",
    "We're now ready to detrend our data! You have a choice between SysRem or SVD, and each has their own method:"
   ]
  },
  {
   "cell_type": "code",
   "execution_count": 22,
   "id": "4d7b02bb",
   "metadata": {
    "collapsed": true
   },
   "outputs": [
    {
     "data": {
      "text/plain": [
       "(array([[[-2.42967519e-03,  5.73328229e-03,  8.43463360e-03, ...,\n",
       "           2.28037047e-02,  1.25002490e-02,  3.45551457e-03],\n",
       "         [ 2.70771338e-03,  1.18704792e-03, -3.81941783e-04, ...,\n",
       "          -3.42237560e-03,  3.14629527e-03, -8.55764628e-04],\n",
       "         [ 4.08061559e-03,  6.59630732e-03,  6.86592409e-03, ...,\n",
       "           2.04560422e-02,  9.56525102e-03,  5.21901479e-03],\n",
       "         ...,\n",
       "         [-1.53074329e-02, -6.76031162e-03, -1.80808832e-03, ...,\n",
       "           5.04254281e-03,  4.03189444e-03,  3.95325051e-03],\n",
       "         [ 8.32309938e-03,  5.69607357e-03,  1.30691167e-02, ...,\n",
       "           2.13335465e-02,  2.32494775e-02,  2.89346172e-02],\n",
       "         [-7.30523768e-03, -8.67872711e-04, -1.67748034e-04, ...,\n",
       "           3.90272182e-02,  2.71617552e-02,  3.93417449e-02]],\n",
       " \n",
       "        [[-8.99215690e-03, -7.93238530e-03, -7.27389242e-03, ...,\n",
       "          -6.27464840e-03,  2.29237562e-03,  2.05527863e-02],\n",
       "         [ 9.32576061e-03,  9.19680854e-03,  3.03318927e-03, ...,\n",
       "           1.22201650e-02,  1.02270718e-02,  5.02680537e-04],\n",
       "         [-1.30988871e-02, -1.51331336e-02, -7.29438661e-03, ...,\n",
       "          -9.69252058e-04,  6.17546941e-03,  4.38703528e-03],\n",
       "         ...,\n",
       "         [ 1.06078088e-03,  5.89885829e-03, -3.74632831e-03, ...,\n",
       "          -4.15352540e-03, -1.61980851e-03,  8.06047492e-03],\n",
       "         [-2.51474766e-02, -1.76054068e-02, -4.88183000e-03, ...,\n",
       "          -3.84145928e-04,  9.40922040e-05,  1.27104542e-02],\n",
       "         [ 1.29964174e-02,  1.40833007e-02,  8.17526684e-03, ...,\n",
       "           2.70203545e-03,  1.20698773e-02,  4.65275739e-03]],\n",
       " \n",
       "        [[ 9.36264439e-03,  1.43326633e-02,  1.30538432e-02, ...,\n",
       "           6.45578492e-03, -5.19714274e-03, -2.23726292e-03],\n",
       "         [ 1.61578108e-02,  1.69277534e-02,  1.49566490e-02, ...,\n",
       "           2.87957285e-03,  2.46505061e-03,  5.93881813e-03],\n",
       "         [ 9.40362502e-03,  1.42430498e-02,  1.15872410e-02, ...,\n",
       "          -1.00694593e-02, -8.66720229e-03,  4.14948668e-03],\n",
       "         ...,\n",
       "         [-7.12461702e-03, -8.91532574e-03, -7.92623714e-03, ...,\n",
       "          -1.25754090e-03,  1.04609091e-03,  7.54308100e-03],\n",
       "         [-8.86014666e-03, -2.19972477e-03,  6.42214512e-03, ...,\n",
       "           3.79250527e-03,  6.86232933e-04, -5.83153248e-03],\n",
       "         [ 1.65776898e-02,  1.95729485e-02,  2.24417373e-02, ...,\n",
       "          -2.58077814e-03, -1.64282874e-03,  6.36606792e-03]],\n",
       " \n",
       "        ...,\n",
       " \n",
       "        [[-2.03988855e-03, -4.96028448e-04,  3.88414318e-03, ...,\n",
       "           3.12094992e-03,  1.39371565e-03,  8.63871451e-03],\n",
       "         [-6.29350914e-04,  1.01444541e-03, -1.17710470e-03, ...,\n",
       "           1.40757299e-02,  1.25264856e-02,  9.29055976e-03],\n",
       "         [-1.43589497e-03,  3.55132203e-03,  2.20171722e-03, ...,\n",
       "           1.15829190e-02,  2.35759420e-02,  4.57772379e-03],\n",
       "         ...,\n",
       "         [ 2.72594687e-04,  4.52543592e-04,  1.88160781e-03, ...,\n",
       "           8.38162434e-03,  5.51929873e-04, -8.04336292e-04],\n",
       "         [ 9.28842210e-04,  6.44661037e-03,  3.94206517e-03, ...,\n",
       "           1.46366164e-02,  1.48384880e-02,  1.26845996e-02],\n",
       "         [ 1.32143431e-02,  1.20982430e-02,  6.22397739e-03, ...,\n",
       "          -4.22149842e-03,  1.14667925e-02,  4.35462931e-03]],\n",
       " \n",
       "        [[ 5.36890177e-03,  6.61023145e-03,  4.59790915e-03, ...,\n",
       "           6.76596563e-03,  3.67123183e-04,  1.65560873e-02],\n",
       "         [ 1.78184930e-03,  7.08735361e-04,  4.38010731e-03, ...,\n",
       "           1.83379352e-02,  1.72460034e-02,  2.00910337e-02],\n",
       "         [ 4.28145640e-03,  6.29460299e-03,  2.11740688e-03, ...,\n",
       "           1.62725563e-02,  2.65081891e-02,  3.69361159e-02],\n",
       "         ...,\n",
       "         [-1.44652707e-03,  7.63675998e-03, -1.89190900e-03, ...,\n",
       "           1.12315052e-02,  9.86150482e-04,  1.56464288e-02],\n",
       "         [ 2.11582741e-03, -8.99641501e-05, -3.32836017e-03, ...,\n",
       "          -3.27080886e-03, -4.22605816e-04,  1.74646352e-02],\n",
       "         [ 4.62793786e-03,  1.94759074e-02,  1.87514018e-02, ...,\n",
       "          -5.40146321e-03,  6.33368181e-03,  7.23100562e-03]],\n",
       " \n",
       "        [[ 1.56841579e-03,  2.51872262e-03,  1.57645329e-03, ...,\n",
       "          -3.22128058e-02, -2.68504294e-02, -1.54337384e-02],\n",
       "         [ 2.69437083e-03,  1.70491612e-03,  1.66763635e-03, ...,\n",
       "          -8.67333432e-03, -1.74650070e-02, -1.85302367e-02],\n",
       "         [-8.77024563e-04, -2.49068248e-03, -2.12881924e-03, ...,\n",
       "          -1.72670749e-02, -1.72827864e-02, -5.33631818e-03],\n",
       "         ...,\n",
       "         [ 9.04756436e-05,  2.91686171e-03, -4.49428754e-03, ...,\n",
       "           1.58065658e-04,  9.41407040e-03,  3.31984647e-03],\n",
       "         [-5.24369472e-03, -8.41208762e-03,  1.69658813e-03, ...,\n",
       "           1.58676155e-03, -3.05709093e-03, -2.30456987e-03],\n",
       "         [ 2.70862531e-02,  2.28080091e-02,  2.93435661e-02, ...,\n",
       "          -3.15351864e-02, -2.31205826e-02, -6.52022679e-03]]]),\n",
       " array([[[ 1.68942376e+03,  1.68750399e+03,  1.69707471e+03, ...,\n",
       "           1.32163175e+02,  1.34611045e+02,  1.32506288e+02],\n",
       "         [ 1.95068762e+03,  1.94566377e+03,  1.96253183e+03, ...,\n",
       "           1.48111962e+02,  1.49416246e+02,  1.46998903e+02],\n",
       "         [ 1.79020708e+03,  1.78842762e+03,  1.79864011e+03, ...,\n",
       "           1.36991343e+02,  1.39926654e+02,  1.37941669e+02],\n",
       "         ...,\n",
       "         [ 1.70214053e+03,  1.70683661e+03,  1.71106542e+03, ...,\n",
       "           1.49868380e+02,  1.56486814e+02,  1.59459983e+02],\n",
       "         [ 1.65300644e+03,  1.65508065e+03,  1.66416605e+03, ...,\n",
       "           1.39078225e+02,  1.44453843e+02,  1.47026114e+02],\n",
       "         [ 9.81931105e+03,  9.88236831e+03,  9.84728021e+03, ...,\n",
       "           7.59663730e+02,  8.62728701e+02,  8.57696457e+02]],\n",
       " \n",
       "        [[ 6.81199358e+02,  4.08903484e+02,  2.43789095e+02, ...,\n",
       "           2.93362479e+03,  2.94808425e+03,  2.94641061e+03],\n",
       "         [ 7.81709969e+02,  4.73366667e+02,  2.77755155e+02, ...,\n",
       "           3.35883172e+03,  3.41793516e+03,  3.39565407e+03],\n",
       "         [ 7.00564058e+02,  4.19490798e+02,  2.46933670e+02, ...,\n",
       "           3.09087137e+03,  3.12585445e+03,  3.11522486e+03],\n",
       "         ...,\n",
       "         [ 5.38985369e+02,  3.08935916e+02,  1.90444077e+02, ...,\n",
       "           3.15312979e+03,  3.13767410e+03,  3.16147033e+03],\n",
       "         [ 5.47985540e+02,  3.30546265e+02,  2.11044309e+02, ...,\n",
       "           2.95186317e+03,  2.94286719e+03,  2.96273718e+03],\n",
       "         [ 2.37235313e+03,  1.08940232e+03,  5.02748069e+02, ...,\n",
       "           1.68088545e+04,  1.66895698e+04,  1.68185858e+04]],\n",
       " \n",
       "        [[ 2.22767170e+03,  2.27340998e+03,  2.31403100e+03, ...,\n",
       "           3.37493157e+03,  3.38237221e+03,  3.38430463e+03],\n",
       "         [ 2.51428139e+03,  2.57965555e+03,  2.63310507e+03, ...,\n",
       "           3.84355347e+03,  3.85328354e+03,  3.87027156e+03],\n",
       "         [ 2.34749831e+03,  2.39883099e+03,  2.44474007e+03, ...,\n",
       "           3.55282450e+03,  3.56364655e+03,  3.56950642e+03],\n",
       "         ...,\n",
       "         [ 2.41330015e+03,  2.44991265e+03,  2.48360833e+03, ...,\n",
       "           3.55602214e+03,  3.56444326e+03,  3.56313478e+03],\n",
       "         [ 2.27767470e+03,  2.31355653e+03,  2.34375507e+03, ...,\n",
       "           3.33923908e+03,  3.34403017e+03,  3.34572012e+03],\n",
       "         [ 1.29253663e+04,  1.30263963e+04,  1.31537404e+04, ...,\n",
       "           1.91290170e+04,  1.91523796e+04,  1.90232436e+04]],\n",
       " \n",
       "        ...,\n",
       " \n",
       "        [[ 1.06147228e+01,  1.28841411e+01,  1.78295359e+01, ...,\n",
       "           3.95484372e+03,  3.91448512e+03,  3.85072918e+03],\n",
       "         [ 1.45375698e+01,  1.84193819e+01,  2.19546422e+01, ...,\n",
       "           4.48200042e+03,  4.43713699e+03,  4.36534663e+03],\n",
       "         [ 1.04133197e+01,  1.19635419e+01,  1.81818454e+01, ...,\n",
       "           4.26943125e+03,  4.22582061e+03,  4.15936609e+03],\n",
       "         ...,\n",
       "         [ 1.22604449e+01,  1.78725533e+01,  1.24104575e+01, ...,\n",
       "           4.21372326e+03,  4.18081055e+03,  4.13988421e+03],\n",
       "         [ 1.75165751e+01,  1.99985288e+01,  1.85501797e+01, ...,\n",
       "           3.95048046e+03,  3.92077488e+03,  3.88276242e+03],\n",
       "         [-2.18511008e+02, -1.58427742e+02, -1.60096369e+02, ...,\n",
       "           2.45005567e+04,  2.38792841e+04,  2.36735507e+04]],\n",
       " \n",
       "        [[-3.34023072e+00, -4.14181067e+00,  2.82080744e+00, ...,\n",
       "           3.54060424e+03,  3.56802031e+03,  3.58451771e+03],\n",
       "         [-5.69768061e-01, -1.31257873e+00,  5.15469550e+00, ...,\n",
       "           4.01985113e+03,  4.04736484e+03,  4.07813788e+03],\n",
       "         [ 1.12791835e+01,  1.01974131e+01,  1.84960797e+01, ...,\n",
       "           3.83905254e+03,  3.87101619e+03,  3.88230206e+03],\n",
       "         ...,\n",
       "         [ 6.32012753e+00,  1.10386727e+01,  8.88222296e+00, ...,\n",
       "           3.76716109e+03,  3.78675857e+03,  3.86549986e+03],\n",
       "         [ 9.92084882e+00,  1.48419247e+01,  1.38485389e+01, ...,\n",
       "           3.52531255e+03,  3.54750413e+03,  3.61025340e+03],\n",
       "         [-7.72844524e+01, -3.24102015e+02, -2.29755252e+02, ...,\n",
       "           2.24209756e+04,  2.23495401e+04,  2.27954246e+04]],\n",
       " \n",
       "        [[-5.24880259e+00, -5.84631919e+00,  1.77931421e-01, ...,\n",
       "           1.59976824e+03,  1.74764709e+03,  2.05851169e+03],\n",
       "         [-6.60915070e+00, -6.49456158e+00, -4.93789435e-01, ...,\n",
       "           1.80084093e+03,  1.96438274e+03,  2.31180554e+03],\n",
       "         [ 1.28203357e+01,  1.10473695e+01,  1.84599683e+01, ...,\n",
       "           1.73049810e+03,  1.89438589e+03,  2.23240860e+03],\n",
       "         ...,\n",
       "         [ 1.60684475e+01,  2.43422781e+01,  1.53253052e+01, ...,\n",
       "           1.49844952e+03,  1.65512234e+03,  1.98711928e+03],\n",
       "         [ 2.13492488e+01,  2.70933039e+01,  2.08472065e+01, ...,\n",
       "           1.42553758e+03,  1.58012906e+03,  1.89960265e+03],\n",
       "         [-4.71447920e+02, -4.24148229e+02, -4.95724320e+02, ...,\n",
       "           8.72383142e+03,  9.76657040e+03,  1.16752632e+04]]]))"
      ]
     },
     "execution_count": 22,
     "metadata": {},
     "output_type": "execute_result"
    }
   ],
   "source": [
    "wasp18.do_sysrem(niter=5)"
   ]
  },
  {
   "cell_type": "code",
   "execution_count": 7,
   "id": "d14bf5b1",
   "metadata": {
    "collapsed": true
   },
   "outputs": [
    {
     "data": {
      "text/plain": [
       "(array([[[-2.68963399e+01, -5.57787831e+00,  4.89360143e+00, ...,\n",
       "           3.88491266e+01,  1.57424956e+01, -1.48199067e+01],\n",
       "         [-5.50252073e+00, -1.00923836e+01, -7.01545845e+00, ...,\n",
       "          -1.74024528e+01,  2.44022587e+00, -1.22167484e+01],\n",
       "         [-1.04359194e+01, -2.60618799e+00,  2.12192978e+00, ...,\n",
       "           2.89388343e+01,  4.01246645e+00, -1.65625856e+01],\n",
       "         ...,\n",
       "         [-5.18128201e+01, -2.75404418e+01, -1.74476024e+01, ...,\n",
       "          -1.17211903e+01, -9.78689486e+00, -7.48760344e+00],\n",
       "         [ 1.33895505e+01,  4.49564069e+00,  2.83567049e+01, ...,\n",
       "           4.56105384e+00,  1.86277654e+01,  2.49815709e+01],\n",
       "         [-3.30516479e+00, -5.10219195e-01, -3.37762559e+00, ...,\n",
       "          -2.62188910e+00, -1.88989524e+00, -5.64345990e-01]],\n",
       " \n",
       "        [[ 1.39175349e+01, -8.61736972e+00, -1.12690287e+01, ...,\n",
       "          -6.36608150e+01, -1.90138784e+01,  4.71054842e+01],\n",
       "         [ 7.00754654e+01,  5.24144616e+01,  2.27808391e+01, ...,\n",
       "           1.46946509e+01,  5.69994433e+01, -1.78145384e+01],\n",
       "         [ 3.47922927e+01, -1.07861941e+01,  4.76698017e-01, ...,\n",
       "          -4.54874214e+01,  1.40423256e+01, -1.98484807e+01],\n",
       "         ...,\n",
       "         [ 2.38977938e+01,  4.70419829e+01,  9.67240056e+00, ...,\n",
       "          -2.76968815e+01, -3.06050841e+01,  1.73691813e+01],\n",
       "         [-7.97362747e+00,  4.94433452e+00,  3.90557707e+01, ...,\n",
       "           2.38230265e+00, -6.10080895e+00,  3.69463227e+01],\n",
       "         [-3.45956332e+00, -2.04351193e+00, -7.05295154e-01, ...,\n",
       "          -3.62146662e-01,  2.52081120e+00,  3.38803510e+00]],\n",
       " \n",
       "        [[ 1.09327892e+01,  2.79816177e+01,  2.29987765e+01, ...,\n",
       "           2.86608184e+01, -1.14095810e+01, -1.79082846e+01],\n",
       "         [ 1.43663991e+01,  2.33155510e+01,  2.15522916e+01, ...,\n",
       "          -5.85025671e+00,  1.15582743e+01,  2.15465117e+01],\n",
       "         [ 9.43515983e+00,  3.49921253e+01,  2.30824468e+01, ...,\n",
       "          -5.24625715e+01, -3.68957343e+01,  1.74629004e+01],\n",
       "         ...,\n",
       "         [-8.11620412e+00, -1.72049677e+01, -2.48142613e+01, ...,\n",
       "          -5.05188427e+00, -8.66867847e+00,  2.86599065e+01],\n",
       "         [-1.70192322e+01,  1.13908918e+01,  4.92144335e+01, ...,\n",
       "           2.62741928e+01,  9.72834550e+00, -2.21302223e+01],\n",
       "         [-2.55627031e+00,  2.02997823e-01,  2.61906916e+00, ...,\n",
       "          -5.97929130e-03, -2.19764867e+00,  2.36786865e-01]],\n",
       " \n",
       "        ...,\n",
       " \n",
       "        [[-5.42368539e+00, -3.51208166e+00,  2.08478909e+01, ...,\n",
       "          -4.82792947e+01, -7.42847965e+01, -1.74212751e+01],\n",
       "         [ 6.24553460e+00,  8.82666500e+00, -5.25612782e+00, ...,\n",
       "           1.40828751e+01, -1.43695174e+01, -3.80542797e+00],\n",
       "         [-5.46532136e+00,  1.45927919e+01,  8.04029622e+00, ...,\n",
       "          -5.22629573e+00,  3.16915996e+01, -4.61648338e+01],\n",
       "         ...,\n",
       "         [ 1.57254204e+00,  5.69756174e+00,  6.61196028e+00, ...,\n",
       "           1.91472208e+01, -3.64575581e+01, -3.34757484e+01],\n",
       "         [ 7.36780062e+00,  3.60585117e+01,  2.11153558e+01, ...,\n",
       "           6.20708217e+01,  5.19813321e+01,  4.84957617e+01],\n",
       "         [ 8.25636347e-02,  1.02119081e-01,  6.48040714e-02, ...,\n",
       "           3.05628687e-01,  2.06442398e-01,  1.93173964e-01]],\n",
       " \n",
       "        [[ 7.43557164e+00,  1.39764823e+01,  4.74048367e+00, ...,\n",
       "          -3.91699928e+01, -6.66381925e+01, -3.85953352e+01],\n",
       "         [-5.32567657e+00, -1.02560264e+01,  3.07153481e+00, ...,\n",
       "           2.57100746e+01,  2.38752190e+01,  2.18116064e+01],\n",
       "         [ 1.24878638e+01,  2.17460785e+01,  8.91958447e+00, ...,\n",
       "           4.34318104e-02,  3.55007545e+01,  2.58496420e+01],\n",
       "         ...,\n",
       "         [-1.04803680e+01,  2.97530244e+01, -1.18068035e+01, ...,\n",
       "           3.31305691e+01, -1.79347672e+01,  4.99406550e+01],\n",
       "         [ 8.50864903e+00,  7.47347233e-01, -1.28164278e+01, ...,\n",
       "          -2.22404859e+01, -1.20932476e+01,  5.56106703e+01],\n",
       "         [-8.00260021e-02,  8.52213244e-02,  4.73582848e-01, ...,\n",
       "           1.04839951e+00, -1.06580272e+00, -8.75328236e-01]],\n",
       " \n",
       "        [[-1.06796689e+01, -1.02470430e+01, -6.38775110e+00, ...,\n",
       "          -5.63776723e+01, -4.05411456e+01, -5.66896394e+00],\n",
       "         [-4.49970620e+00, -1.36047554e+01, -4.06534455e+00, ...,\n",
       "           1.75661839e+00, -4.06746656e+01, -3.99821646e+01],\n",
       "         [-7.52954846e+00, -1.04985038e+01, -3.68412411e+00, ...,\n",
       "          -1.12765387e+01, -1.17456842e+01,  1.90623394e+01],\n",
       "         ...,\n",
       "         [ 6.40788091e+00,  1.89731221e+01, -9.29305270e+00, ...,\n",
       "           4.71481949e+00,  2.38234615e+01, -2.87813488e+00],\n",
       "         [-1.22676468e+01, -1.85400447e+01,  8.32357482e+00, ...,\n",
       "           2.54712604e+01,  1.50834923e+01,  5.59053393e+00],\n",
       "         [ 1.20204538e-01,  4.29805887e-01,  6.67894715e-02, ...,\n",
       "          -2.54389565e-01,  4.13034549e-01,  1.61715974e-01]]]),\n",
       " array([[[ 1.71005052e+03,  1.70821408e+03,  1.71439577e+03, ...,\n",
       "           1.53201802e+02,  1.51742516e+02,  1.56486512e+02],\n",
       "         [ 1.96543687e+03,  1.96039822e+03,  1.96943835e+03, ...,\n",
       "           1.56198860e+02,  1.57550806e+02,  1.57671953e+02],\n",
       "         [ 1.81375405e+03,  1.81115016e+03,  1.81738533e+03, ...,\n",
       "           1.66763317e+02,  1.64298002e+02,  1.70785341e+02],\n",
       "         ...,\n",
       "         [ 1.71459897e+03,  1.71669673e+03,  1.72339070e+03, ...,\n",
       "           1.73839290e+02,  1.75960595e+02,  1.76435045e+02],\n",
       "         [ 1.66128436e+03,  1.66573998e+03,  1.66924236e+03, ...,\n",
       "           1.88438017e+02,  1.84496587e+02,  1.94808725e+02],\n",
       "         [ 9.71086064e+03,  9.86919460e+03,  9.84764013e+03, ...,\n",
       "           1.35639343e+03,  1.27795904e+03,  1.45716035e+03]],\n",
       " \n",
       "        [[ 6.29192309e+02,  3.83904306e+02,  2.24220869e+02, ...,\n",
       "           2.97066585e+03,  2.97663712e+03,  2.98591562e+03],\n",
       "         [ 7.57206252e+02,  4.65899658e+02,  2.70081808e+02, ...,\n",
       "           3.40372152e+03,  3.41087099e+03,  3.41632514e+03],\n",
       "         [ 6.07571621e+02,  3.63038911e+02,  2.14045598e+02, ...,\n",
       "           3.13204931e+03,  3.13924587e+03,  3.15456127e+03],\n",
       "         ...,\n",
       "         [ 5.20532239e+02,  2.88975545e+02,  1.64717888e+02, ...,\n",
       "           3.16295181e+03,  3.16173566e+03,  3.18084999e+03],\n",
       "         [ 4.51146961e+02,  2.52274063e+02,  1.51775189e+02, ...,\n",
       "           2.94804308e+03,  2.94952661e+03,  2.97901643e+03],\n",
       "         [ 2.68595775e+03,  1.42753144e+03,  6.98532397e+02, ...,\n",
       "           1.68736665e+04,  1.69750804e+04,  1.69262054e+04]],\n",
       " \n",
       "        [[ 2.26074175e+03,  2.31288135e+03,  2.35245133e+03, ...,\n",
       "           3.37655810e+03,  3.36908687e+03,  3.39148366e+03],\n",
       "         [ 2.58816934e+03,  2.64875357e+03,  2.69331845e+03, ...,\n",
       "           3.86592906e+03,  3.85601134e+03,  3.88177642e+03],\n",
       "         [ 2.38406629e+03,  2.43389847e+03,  2.47851537e+03, ...,\n",
       "           3.55449078e+03,  3.55671652e+03,  3.57192868e+03],\n",
       "         ...,\n",
       "         [ 2.38639569e+03,  2.42305169e+03,  2.46935278e+03, ...,\n",
       "           3.55568929e+03,  3.57936336e+03,  3.57354405e+03],\n",
       "         [ 2.25155468e+03,  2.29042105e+03,  2.32343624e+03, ...,\n",
       "           3.32946538e+03,  3.33616054e+03,  3.33898682e+03],\n",
       "         [ 1.33748963e+04,  1.35539212e+04,  1.37561936e+04, ...,\n",
       "           1.90594720e+04,  1.91103140e+04,  1.91946686e+04]],\n",
       " \n",
       "        ...,\n",
       " \n",
       "        [[ 5.60150227e+00,  1.39921592e+01,  1.73680067e+01, ...,\n",
       "           4.01953841e+03,  3.99619836e+03,  3.91327528e+03],\n",
       "         [ 4.60231307e+00,  1.56249322e+01,  2.02814567e+01, ...,\n",
       "           4.55119838e+03,  4.52562461e+03,  4.42413186e+03],\n",
       "         [ 8.46958251e+00,  1.78623597e+01,  2.30828805e+01, ...,\n",
       "           4.34008142e+03,  4.32664708e+03,  4.23176467e+03],\n",
       "         ...,\n",
       "         [ 1.30990010e+01,  1.55480878e+01,  1.68113008e+01, ...,\n",
       "           4.24033762e+03,  4.22117252e+03,  4.17001384e+03],\n",
       "         [ 1.37934255e+01,  1.51309731e+01,  1.61223611e+01, ...,\n",
       "           3.96048749e+03,  3.94187920e+03,  3.89659947e+03],\n",
       "         [ 1.88329280e+02,  2.14023989e+02,  3.15014989e+01, ...,\n",
       "           2.43702574e+04,  2.42321867e+04,  2.38074558e+04]],\n",
       " \n",
       "        [[ 1.24106596e+01,  1.03227774e+01,  1.80031367e+01, ...,\n",
       "           3.60887454e+03,  3.63667220e+03,  3.69365540e+03],\n",
       "         [ 1.22144585e+01,  1.12233572e+01,  2.20804015e+01, ...,\n",
       "           4.08149608e+03,  4.10557519e+03,  4.15214140e+03],\n",
       "         [ 1.65046641e+01,  1.53713381e+01,  1.73930609e+01, ...,\n",
       "           3.91156097e+03,  3.95487758e+03,  4.02350428e+03],\n",
       "         ...,\n",
       "         [ 1.21383438e+01,  1.63036729e+01,  1.40812318e+01, ...,\n",
       "           3.78475212e+03,  3.81065829e+03,  3.88556732e+03],\n",
       "         [ 1.10609418e+01,  1.47637951e+01,  1.41510457e+01, ...,\n",
       "           3.53527340e+03,  3.55891245e+03,  3.62677471e+03],\n",
       "         [ 3.73017153e+01,  1.57554650e+02,  2.33593810e+02, ...,\n",
       "           2.22863755e+04,  2.25073003e+04,  2.29751879e+04]],\n",
       " \n",
       "        [[ 1.12264851e+01,  1.33772105e+01,  1.23882045e+01, ...,\n",
       "           1.54886900e+03,  1.69886027e+03,  2.01306665e+03],\n",
       "         [ 8.10608061e+00,  1.35559944e+01,  9.87532351e+00, ...,\n",
       "           1.76599001e+03,  1.93846770e+03,  2.28113958e+03],\n",
       "         [ 1.59752634e+01,  1.13306983e+01,  1.32386632e+01, ...,\n",
       "           1.67807704e+03,  1.84237712e+03,  2.19283145e+03],\n",
       "         ...,\n",
       "         [ 1.01588225e+01,  1.55046242e+01,  9.48381120e+00, ...,\n",
       "           1.49446342e+03,  1.66358807e+03,  2.00150695e+03],\n",
       "         [ 1.57834521e+01,  1.75956529e+01,  1.70423391e+01, ...,\n",
       "           1.40423132e+03,  1.55425439e+03,  1.88564454e+03],\n",
       "         [ 3.21417959e+01, -4.28497505e-01,  4.98969398e+01, ...,\n",
       "           8.13764190e+03,  9.33619567e+03,  1.15538484e+04]]]))"
      ]
     },
     "execution_count": 7,
     "metadata": {},
     "output_type": "execute_result"
    }
   ],
   "source": [
    "wasp18.do_svd(NPC=5)"
   ]
  },
  {
   "cell_type": "markdown",
   "id": "7286e7d0",
   "metadata": {},
   "source": [
    "If you do SVD, you can make a scree plot to get an idea of the variance projected onto each component:"
   ]
  },
  {
   "cell_type": "code",
   "execution_count": 8,
   "id": "f870770f",
   "metadata": {},
   "outputs": [
    {
     "data": {
      "image/png": "[encoded data removed]",
      "text/plain": [
       "<Figure size 640x480 with 1 Axes>"
      ]
     },
     "metadata": {},
     "output_type": "display_data"
    },
    {
     "data": {
      "image/png": "[encoded data removed]",
      "text/plain": [
       "<Figure size 640x480 with 1 Axes>"
      ]
     },
     "metadata": {},
     "output_type": "display_data"
    }
   ],
   "source": [
    "wasp18.plot_scree()"
   ]
  },
  {
   "cell_type": "markdown",
   "id": "370d99e4",
   "metadata": {},
   "source": [
    "After either sysrem or svd, the Planet object will have two new attributes - a matrix of the first few components removed, and another with only the first few for model filtering. We're almost ready to work with our data! As a final step, if you would like to use per-pixel uncertainties, you can get these with the get_error method. There are three options here, \"PLP\", \"gibson\", and \"boucher\". \"PLP\" will scale the raw variance as output by the PLP down to match the variance of the residuals such that the reduced chi-square of the detrending process is 1. \"gibson\" will do the same but with the raw spectrum (see Gibson et al. 2020), and \"boucher\" will use the variance of each channel in time (see Boucher et al. 2021)."
   ]
  },
  {
   "cell_type": "code",
   "execution_count": 10,
   "id": "283df5ce",
   "metadata": {
    "collapsed": true
   },
   "outputs": [
    {
     "name": "stderr",
     "output_type": "stream",
     "text": [
      "C:\\Users\\peter\\Documents\\science\\HRCCS\\Data\\cubify\\cubify.py:836: RuntimeWarning: divide by zero encountered in true_divide\n",
      "  lnlike = -0.5 * np.sum(   R**2 / Var1  ) - np.sum(np.log(  np.sqrt(Var1)  ))\n",
      "C:\\Users\\peter\\Documents\\science\\HRCCS\\Data\\cubify\\cubify.py:836: RuntimeWarning: divide by zero encountered in log\n",
      "  lnlike = -0.5 * np.sum(   R**2 / Var1  ) - np.sum(np.log(  np.sqrt(Var1)  ))\n",
      "C:\\Users\\peter\\Documents\\science\\HRCCS\\Data\\cubify\\cubify.py:836: RuntimeWarning: invalid value encountered in double_scalars\n",
      "  lnlike = -0.5 * np.sum(   R**2 / Var1  ) - np.sum(np.log(  np.sqrt(Var1)  ))\n"
     ]
    },
    {
     "data": {
      "text/plain": [
       "array([[[24.8736    , 24.9747782 , 24.98059633, ..., 14.86139596,\n",
       "         14.35200387, 14.59986614],\n",
       "        [26.10054081, 25.96799355, 26.09662246, ..., 14.1654736 ,\n",
       "         14.16093184, 14.09489906],\n",
       "        [25.34941206, 25.47365277, 25.38339722, ..., 15.7464189 ,\n",
       "         15.00729859, 14.75830984],\n",
       "        ...,\n",
       "        [34.0105377 , 34.195997  , 34.23899943, ..., 22.41442603,\n",
       "         22.57679224, 22.78157686],\n",
       "        [22.98368543, 22.95119674, 22.84285346, ..., 13.83943386,\n",
       "         14.07006923, 14.05160033],\n",
       "        [ 4.14741961,  4.16381409,  4.16010912, ...,  3.12409287,\n",
       "          3.11735739,  3.11857663]],\n",
       "\n",
       "       [[17.88538479, 16.53865921, 15.48889611, ..., 28.82406862,\n",
       "         28.98868065, 29.30393992],\n",
       "        [17.7830188 , 16.4890765 , 15.19545803, ..., 29.52117924,\n",
       "         29.71358054, 29.76236899],\n",
       "        [16.12284817, 14.86769683, 13.9849773 , ..., 27.34018348,\n",
       "         27.22921499, 27.15929839],\n",
       "        ...,\n",
       "        [26.79225885, 24.9975011 , 24.57910341, ..., 45.78132466,\n",
       "         45.70108436, 46.00906415],\n",
       "        [15.8607788 , 14.68253515, 14.65217238, ..., 26.55790634,\n",
       "         26.34870416, 26.48626594],\n",
       "        [ 1.39769712,  1.32934373,  1.29152642, ...,  1.99708789,\n",
       "          1.99499909,  1.99704164]],\n",
       "\n",
       "       [[21.98817221, 22.29122242, 22.43024066, ..., 28.07373238,\n",
       "         27.84400646, 28.11333296],\n",
       "        [22.56100183, 22.8248774 , 23.00678999, ..., 28.4882519 ,\n",
       "         28.48152344, 28.75087018],\n",
       "        [23.94695562, 24.25656162, 24.43526417, ..., 29.87257516,\n",
       "         30.19729999, 30.47072541],\n",
       "        ...,\n",
       "        [23.29547894, 23.4295679 , 23.49417791, ..., 29.17513746,\n",
       "         29.26953173, 29.51414842],\n",
       "        [25.52893048, 25.81656452, 26.01404081, ..., 31.9944427 ,\n",
       "         31.98310251, 32.19323381],\n",
       "        [ 2.74094275,  2.75064917,  2.75978154, ...,  3.00931944,\n",
       "          3.00170456,  3.00976361]],\n",
       "\n",
       "       ...,\n",
       "\n",
       "       [[16.0611643 , 15.84641654, 15.98711592, ..., 50.16266509,\n",
       "         49.98807475, 49.81953516],\n",
       "        [16.74382338, 16.32715869, 16.09505077, ..., 53.20226917,\n",
       "         52.85544897, 52.43908529],\n",
       "        [ 9.92581163, 10.1562324 , 10.30198128, ..., 31.56829824,\n",
       "         31.55719031, 31.26618029],\n",
       "        ...,\n",
       "        [15.37151514, 15.85987434, 15.96945565, ..., 52.01481065,\n",
       "         51.47452485, 51.37757084],\n",
       "        [10.55950432, 10.75207355, 10.72334795, ..., 32.88076441,\n",
       "         32.78401303, 32.64716458],\n",
       "        [ 0.13960287,  0.14092724,  0.14106232, ...,  0.2062148 ,\n",
       "          0.20627267,  0.20546537]],\n",
       "\n",
       "       [[15.8444564 , 15.65592935, 15.8771457 , ..., 48.18959494,\n",
       "         48.31207804, 49.06146247],\n",
       "        [ 9.68860761,  9.82417817,  9.62166225, ..., 31.40633509,\n",
       "         31.5509389 , 31.70712526],\n",
       "        [10.5652645 , 10.42609253, 10.43751243, ..., 30.32755717,\n",
       "         30.65260258, 31.12032827],\n",
       "        ...,\n",
       "        [10.79520725, 10.83060736, 10.72132356, ..., 33.81605027,\n",
       "         33.99113695, 34.72149366],\n",
       "        [11.02149081, 11.06126613, 10.89748734, ..., 32.43596632,\n",
       "         32.75120179, 33.5721751 ],\n",
       "        [ 0.45173503,  0.45471124,  0.45346723, ...,  0.64975327,\n",
       "          0.65675665,  0.66771417]],\n",
       "\n",
       "       [[10.7369697 , 10.63196318, 10.6879307 , ..., 22.98759099,\n",
       "         23.69546826, 25.56875403],\n",
       "        [16.16817591, 16.21937186, 16.15268903, ..., 35.97492786,\n",
       "         36.7437116 , 39.30192873],\n",
       "        [11.80294141, 12.08814412, 11.78802451, ..., 25.09129786,\n",
       "         25.57685905, 27.31710924],\n",
       "        ...,\n",
       "        [10.64860583, 10.56132915, 10.38349527, ..., 23.33273776,\n",
       "         24.36182342, 25.95187282],\n",
       "        [16.59130382, 16.35970891, 16.512501  , ..., 34.53521965,\n",
       "         35.83074327, 38.41218996],\n",
       "        [ 0.39994721,  0.40344462,  0.40160964, ...,  0.45712182,\n",
       "          0.46833251,  0.4894281 ]]])"
      ]
     },
     "execution_count": 10,
     "metadata": {},
     "output_type": "execute_result"
    }
   ],
   "source": [
    "wasp18.get_error(method=\"PLP\")"
   ]
  },
  {
   "cell_type": "markdown",
   "id": "13e21985",
   "metadata": {},
   "source": [
    "# Saving\n",
    "\n",
    "Saving everything is easy - just use the save method! It takes as an optional keyword a path to directory you want everything to be saved, but by default everything will save to the same directory the FITS files were in."
   ]
  },
  {
   "cell_type": "code",
   "execution_count": null,
   "id": "3a2eff21",
   "metadata": {},
   "outputs": [],
   "source": [
    "wasp18.save()"
   ]
  },
  {
   "cell_type": "markdown",
   "id": "46a43034",
   "metadata": {},
   "source": [
    "# Doing it all\n",
    "\n",
    "Fortunately you don't have to run all of these methods in sequence. the do_it_all method does... it all! You just have to set some keyword args, or just trust the defaults"
   ]
  },
  {
   "cell_type": "code",
   "execution_count": null,
   "id": "f5f75dd4",
   "metadata": {},
   "outputs": [],
   "source": [
    "wasp18.do_it_all()"
   ]
  },
  {
   "cell_type": "markdown",
   "id": "929bffc2",
   "metadata": {},
   "source": [
    "The cubify script is always in development! If you have any issues, questions, or sugges"
   ]
  }
 ],
 "metadata": {
  "kernelspec": {
   "display_name": "Python 3 (ipykernel)",
   "language": "python",
   "name": "python3"
  },
  "language_info": {
   "codemirror_mode": {
    "name": "ipython",
    "version": 3
   },
   "file_extension": ".py",
   "mimetype": "text/x-python",
   "name": "python",
   "nbconvert_exporter": "python",
   "pygments_lexer": "ipython3",
   "version": "3.7.6"
  },
  "toc": {
   "base_numbering": 1,
   "nav_menu": {},
   "number_sections": true,
   "sideBar": true,
   "skip_h1_title": false,
   "title_cell": "Table of Contents",
   "title_sidebar": "Contents",
   "toc_cell": false,
   "toc_position": {},
   "toc_section_display": true,
   "toc_window_display": false
  },
  "varInspector": {
   "cols": {
    "lenName": 16,
    "lenType": 16,
    "lenVar": 40
   },
   "kernels_config": {
    "python": {
     "delete_cmd_postfix": "",
     "delete_cmd_prefix": "del ",
     "library": "var_list.py",
     "varRefreshCmd": "print(var_dic_list())"
    },
    "r": {
     "delete_cmd_postfix": ") ",
     "delete_cmd_prefix": "rm(",
     "library": "var_list.r",
     "varRefreshCmd": "cat(var_dic_list()) "
    }
   },
   "types_to_exclude": [
    "module",
    "function",
    "builtin_function_or_method",
    "instance",
    "_Feature"
   ],
   "window_display": false
  }
 },
 "nbformat": 4,
 "nbformat_minor": 5
}
